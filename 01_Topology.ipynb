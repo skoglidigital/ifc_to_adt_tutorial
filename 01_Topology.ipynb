{
 "cells": [
  {
   "attachments": {},
   "cell_type": "markdown",
   "metadata": {},
   "source": [
    "# Demohuset into Azure Digital Twins \n",
    "## An example of the Digital Twin\n",
    "\n",
    "This example just includes:\n",
    "* Connecting to an ADT environment\n",
    "* Uploading models (using Azure Digital Twins Explorer )\n",
    "* Creating twins og building, level and rooms based on IFC model\n",
    "* Querying twins\n",
    "\n",
    "### After completing this tutorial part, you will have gone from ARK.ifc to Buildings, its levels and ints rooms in Azure Digital Twins\n",
    "![IFC viewer to Azure Digital Twins view](img/ifc_to_rec.png \"IFC viewer to Azure Digital Twins view\")\n",
    "\n",
    "Note: We are using IfcOpenShell to parse the provided IFC models. You find the [dokumentation here](https://docs.ifcopenshell.org/ifcopenshell-python/hello_world.html)\n",
    "\n",
    "[This is the SDK repo on Github](https://github.com/Azure/azure-sdk-for-python/tree/4559e19e2f3146a49f1eba1706bb798071f4a1f5/sdk/digitaltwins/azure-digitaltwins-core)\n",
    "\n",
    "[Here is the doc on the query language](https://docs.microsoft.com/en-us/azure/digital-twins/concepts-query-language)\n"
   ]
  },
  {
   "attachments": {},
   "cell_type": "markdown",
   "metadata": {},
   "source": [
    "## Connecting\n",
    "\n",
    "* **note 1**: you will need to replace {`demohuset.api.weu.digitaltwins.azure.net`} with the address of your ADT. \n",
    "* **note 2**: you will need to replace your tenant id as well "
   ]
  },
  {
   "cell_type": "code",
   "execution_count": 2,
   "metadata": {},
   "outputs": [],
   "source": [
    "# Need to login to the environment for \n",
    "\n",
    "#! az login --tenant \"{paste your tenant id here}\""
   ]
  },
  {
   "cell_type": "code",
   "execution_count": 38,
   "metadata": {},
   "outputs": [
    {
     "data": {
      "text/plain": [
       "<azure.digitaltwins.core._digitaltwins_client.DigitalTwinsClient at 0x7ffff00f9650>"
      ]
     },
     "execution_count": 38,
     "metadata": {},
     "output_type": "execute_result"
    }
   ],
   "source": [
    "from azure.identity import AzureCliCredential\n",
    "from azure.digitaltwins.core import DigitalTwinsClient\n",
    "\n",
    "your_digital_twin_url = \"demohuset.api.weu.digitaltwins.azure.net\" \n",
    "\n",
    "azure_cli = AzureCliCredential()\n",
    "service_client = DigitalTwinsClient(\n",
    "    your_digital_twin_url, azure_cli)\n",
    "service_client"
   ]
  },
  {
   "attachments": {},
   "cell_type": "markdown",
   "metadata": {},
   "source": [
    "# REC/Brick Models in ADT\n",
    "This tutorial assumes that you have uploaded the model found in [this repository](https://github.com/mok-see/rec/tree/university_dev)\n",
    "\n",
    "It is a specialized model developed based on [REC/BrickSchema](https://dev.realestatecore.io/)\n",
    "\n",
    "Open Azure Digtial Twins Explorer and upload models as showed below.\n",
    "\n",
    "![Azure Digital Twin Explorer UI](img/adt_explorer.png \"Azure Digital Twin Explorer\")\n",
    "\n"
   ]
  },
  {
   "attachments": {},
   "cell_type": "markdown",
   "metadata": {},
   "source": [
    "## Creating twins\n",
    "\n",
    "The twin data is based on Demohuset ifc files as found in \"/demohuset\" folder\n",
    "\n",
    "The ARK model looks like this\n",
    "\n",
    "![IFC Model in Viewer](img/openifcviewer.png \"OpenIFCViewer\")\n",
    "\n",
    "We will use ifcopenshell to parse out information on Building, Storeys and rooms in this model. \n",
    "[Learn more about the library here](https://docs.ifcopenshell.org/ifcopenshell-python/hello_world.html)\n",
    "\n"
   ]
  },
  {
   "cell_type": "code",
   "execution_count": 72,
   "metadata": {},
   "outputs": [],
   "source": [
    "# Use ifcopenshell to parse the models. We will start with the Architecture model\n",
    "import ifcopenshell\n",
    "\n",
    "ark = ifcopenshell.open(\"demohuset/ARK.ifc\")\n",
    "\n",
    "# Lets grab the Building, Storeys and rooms from that model \n",
    "\n",
    "ifc_buildings = ark.by_type(\"IfcBuilding\")\n",
    "ifc_storeys = ark.by_type(\"IfcBuildingStorey\")\n",
    "ifc_spaces = ark.by_type(\"IfcSpace\")"
   ]
  },
  {
   "cell_type": "markdown",
   "metadata": {},
   "source": [
    "### Common helper functions "
   ]
  },
  {
   "cell_type": "code",
   "execution_count": 73,
   "metadata": {},
   "outputs": [],
   "source": [
    "# Need to import our REC models \n",
    "from rec_models import Architecture, Building, Level, Room\n",
    "\n",
    "def upsert_ifc_twin(twin: Building | Level | Room ):\n",
    "    print(twin.model_dump(exclude_none=True,by_alias=True))\n",
    "    service_client.upsert_digital_twin(twin.dtid, twin.model_dump(exclude_none=True,by_alias=True))\n",
    "\n",
    "# Function to create and upsert the relationship between a building->levels and levels -> rooms\n",
    "def add_part_relationship(source : Architecture, target : Architecture):\n",
    "    # hasPart\n",
    "    relationship_json = {\n",
    "        \"$relationshipId\": f\"{source.dtid}-hasPart-{target.dtid}\",\n",
    "        \"$sourceId\": source.dtid,\n",
    "        \"$relationshipName\": \"hasPart\",\n",
    "        \"$targetId\": target.dtid,\n",
    "    }\n",
    "    service_client.upsert_relationship(\n",
    "        relationship_json[\"$sourceId\"],\n",
    "        relationship_json[\"$relationshipId\"],\n",
    "        relationship_json,\n",
    "    )\n",
    "    # isPartOf\n",
    "    relationship_json = {\n",
    "        \"$relationshipId\": f\"{target.dtid}-isPartOf-{source.dtid}\",\n",
    "        \"$sourceId\": target.dtid,\n",
    "        \"$relationshipName\": \"isPartOf\",\n",
    "        \"$targetId\": source.dtid,\n",
    "    }\n",
    "    service_client.upsert_relationship(\n",
    "        relationship_json[\"$sourceId\"],\n",
    "        relationship_json[\"$relationshipId\"],\n",
    "        relationship_json,\n",
    "    )\n",
    "\n",
    "def get_twin_by_ifc_guid(ifc_guid):\n",
    "    query_expression = \"SELECT * FROM digitaltwins t WHERE t.identifiers.IfcGuid = '{}'\".format(\n",
    "        ifc_guid\n",
    "    )\n",
    "    query_result = service_client.query_twins(query_expression)\n",
    "    values = []\n",
    "    for i in query_result:\n",
    "        values.append(i)\n",
    "    if len(values) > 1: \n",
    "        ## exception -- can only be one global unique IFC guid\n",
    "        raise Exception(\"There is more than one twin with this guid, can only be one global unique IFC guid\")\n",
    "    else:\n",
    "        return values[0]\n",
    "        "
   ]
  },
  {
   "cell_type": "markdown",
   "metadata": {},
   "source": [
    "### Let us create and upsert some twins \n"
   ]
  },
  {
   "cell_type": "markdown",
   "metadata": {},
   "source": [
    "#### Building \n",
    "* [DTMI: dtmi:org:w3id:rec:Building;1](https://dev.realestatecore.io/ontology/Space/Architecture/Building/Building)\n",
    "* [IfcBuilding docs](https://standards.buildingsmart.org/IFC/RELEASE/IFC2x3/TC1/HTML/ifcproductextension/lexical/ifcbuilding.htm)"
   ]
  },
  {
   "cell_type": "code",
   "execution_count": 74,
   "metadata": {},
   "outputs": [
    {
     "name": "stdout",
     "output_type": "stream",
     "text": [
      "{'$dtId': 'Building-2bde74d5-a99f-4a5b-add3-0c9032191932', 'name': 'Asplund', 'identifiers': {'IfcGuid': '3oUjp0LRHDfvVS2UDNWsfz'}, 'customProperties': {}, '$metadata': {'$model': 'dtmi:org:w3id:rec:Building;1'}, 'area': {'name': '', 'customProperties': {}, 'customTags': {}, '$metadata': {}}, 'capacity': {'name': '', 'customProperties': {}, 'customTags': {}, '$metadata': {}}}\n"
     ]
    }
   ],
   "source": [
    "for building in ifc_buildings:\n",
    "    building_twin = Building(name=building.Name,identifiers={\"IfcGuid\":building.GlobalId})\n",
    "    upsert_ifc_twin(building_twin)\n",
    "    "
   ]
  },
  {
   "cell_type": "markdown",
   "metadata": {},
   "source": [
    "#### In the Azure Digital Twin it should look like this after \"SELECT * FROM digitaltwins\"\n",
    "\n",
    "![ADT Explorer Building Twin](img/building_twin.png \"ADT Explorer Building Twin\")"
   ]
  },
  {
   "cell_type": "markdown",
   "metadata": {},
   "source": [
    "#### Building Storeys aka Levels  \n",
    "* [DTMI: dtmi:org:w3id:rec:Level;1](https://dev.realestatecore.io/ontology/Space/Architecture/Level/Level)\n",
    "* [IfcBuildingStorey docs](https://standards.buildingsmart.org/IFC/RELEASE/IFC2x3/TC1/HTML/ifcproductextension/lexical/ifcbuildingstorey.htm)"
   ]
  },
  {
   "cell_type": "code",
   "execution_count": 75,
   "metadata": {},
   "outputs": [
    {
     "name": "stdout",
     "output_type": "stream",
     "text": [
      "{'$dtId': 'Level-0e476f26-0971-4abf-bb65-fac0b87d5b1a', 'name': '-2. Fundamentplan', 'identifiers': {'IfcGuid': '02L27m6dDFoAtcd48OiKG5'}, 'customProperties': {}, '$metadata': {'$model': 'dtmi:org:w3id:rec:Level;1'}, 'area': {'name': '', 'customProperties': {}, 'customTags': {}, '$metadata': {}}, 'capacity': {'name': '', 'customProperties': {}, 'customTags': {}, '$metadata': {}}}\n",
      "{'$dtId': 'Level-c5877f84-00ca-42aa-b161-fa9e79a82dea', 'name': '-1. Underetasje', 'identifiers': {'IfcGuid': '18DVBjQGbDNh4nL4pLc3T7'}, 'customProperties': {}, '$metadata': {'$model': 'dtmi:org:w3id:rec:Level;1'}, 'area': {'name': '', 'customProperties': {}, 'customTags': {}, '$metadata': {}}, 'capacity': {'name': '', 'customProperties': {}, 'customTags': {}, '$metadata': {}}}\n",
      "{'$dtId': 'Level-bb88455d-9cb8-4be2-8d24-4efc0dad10ef', 'name': '0. 1. etasje', 'identifiers': {'IfcGuid': '3swGzdAGvB7OfkTWz$ss3m'}, 'customProperties': {}, '$metadata': {'$model': 'dtmi:org:w3id:rec:Level;1'}, 'area': {'name': '', 'customProperties': {}, 'customTags': {}, '$metadata': {}}, 'capacity': {'name': '', 'customProperties': {}, 'customTags': {}, '$metadata': {}}}\n",
      "{'$dtId': 'Level-8ae3c401-83f6-46a3-bcec-0b8bf1c80db9', 'name': '1. 2. etasje', 'identifiers': {'IfcGuid': '3$$bP5qLTBtfpI1uH8dN25'}, 'customProperties': {}, '$metadata': {'$model': 'dtmi:org:w3id:rec:Level;1'}, 'area': {'name': '', 'customProperties': {}, 'customTags': {}, '$metadata': {}}, 'capacity': {'name': '', 'customProperties': {}, 'customTags': {}, '$metadata': {}}}\n",
      "{'$dtId': 'Level-8ae168e0-b75b-410c-8458-70e37c07fff7', 'name': '2. Story', 'identifiers': {'IfcGuid': '1w$bRVeDv68vuEsFJ0ich4'}, 'customProperties': {}, '$metadata': {'$model': 'dtmi:org:w3id:rec:Level;1'}, 'area': {'name': '', 'customProperties': {}, 'customTags': {}, '$metadata': {}}, 'capacity': {'name': '', 'customProperties': {}, 'customTags': {}, '$metadata': {}}}\n"
     ]
    }
   ],
   "source": [
    "for storey in ifc_storeys:\n",
    "    level_twin = Level(name=storey.Name,identifiers={\"IfcGuid\":storey.GlobalId})\n",
    "    upsert_ifc_twin(level_twin)"
   ]
  },
  {
   "cell_type": "markdown",
   "metadata": {},
   "source": [
    "#### In the Azure Digital Twin it should now look like this after \"SELECT * FROM digitaltwins\"\n",
    "\n",
    "![ADT Explorer Building and Level twins](img/building_and_level_twins.png \"ADT Explorer Building and Level twins\")"
   ]
  },
  {
   "cell_type": "markdown",
   "metadata": {},
   "source": [
    "#### Spaces aka Rooms\n",
    "* [DTMI: dtmi:org:w3id:rec:Room;1](https://dev.realestatecore.io/ontology/Space/Architecture/Room/Room)\n",
    "* [IfcSpace docs](https://standards.buildingsmart.org/IFC/RELEASE/IFC2x3/TC1/HTML/ifcproductextension/lexical/ifcspace.htm)"
   ]
  },
  {
   "cell_type": "code",
   "execution_count": null,
   "metadata": {},
   "outputs": [
    {
     "name": "stdout",
     "output_type": "stream",
     "text": [
      "{'$dtId': 'Room-61ce1897-44c1-4499-b924-86539e4305ae', 'name': '07', 'identifiers': {'IfcGuid': '3nEpfmJzn4lfik7wGpJyAt'}, 'customProperties': {}, '$metadata': {'$model': 'dtmi:org:w3id:rec:Room;1'}, 'area': {'name': '', 'customProperties': {}, 'customTags': {}, '$metadata': {}, 'grossArea': 23.814728, 'netArea': 23.814728}, 'capacity': {'name': '', 'customProperties': {}, 'customTags': {}, '$metadata': {}}}\n",
      "{'$dtId': 'Room-4c9411a0-93a6-48d7-92f1-c7fe8bb8fc2b', 'name': '08', 'identifiers': {'IfcGuid': '0KmPi6DIb3OOj1yzsHQeAC'}, 'customProperties': {}, '$metadata': {'$model': 'dtmi:org:w3id:rec:Room;1'}, 'area': {'name': '', 'customProperties': {}, 'customTags': {}, '$metadata': {}, 'grossArea': 10.938164, 'netArea': 10.938164}, 'capacity': {'name': '', 'customProperties': {}, 'customTags': {}, '$metadata': {}}}\n",
      "{'$dtId': 'Room-6ab6333a-367b-425c-93c6-33af6dc8c8e2', 'name': '07', 'identifiers': {'IfcGuid': '0q24Bo_G940wCmX0qqAnot'}, 'customProperties': {}, '$metadata': {'$model': 'dtmi:org:w3id:rec:Room;1'}, 'area': {'name': '', 'customProperties': {}, 'customTags': {}, '$metadata': {}, 'grossArea': 22.966222, 'netArea': 22.966222}, 'capacity': {'name': '', 'customProperties': {}, 'customTags': {}, '$metadata': {}}}\n",
      "{'$dtId': 'Room-a2342df2-43d8-4cbf-939a-cecc83ce0792', 'name': '09', 'identifiers': {'IfcGuid': '2UVFZHXPz5VPs5RGyESS1R'}, 'customProperties': {}, '$metadata': {'$model': 'dtmi:org:w3id:rec:Room;1'}, 'area': {'name': '', 'customProperties': {}, 'customTags': {}, '$metadata': {}, 'grossArea': 5.1685138, 'netArea': 5.1685138}, 'capacity': {'name': '', 'customProperties': {}, 'customTags': {}, '$metadata': {}}}\n",
      "{'$dtId': 'Room-dd89b29f-1ef2-4f0c-8b84-f62365b49c8d', 'name': '09', 'identifiers': {'IfcGuid': '2YXxUZJBX829vCankGckap'}, 'customProperties': {}, '$metadata': {'$model': 'dtmi:org:w3id:rec:Room;1'}, 'area': {'name': '', 'customProperties': {}, 'customTags': {}, '$metadata': {}, 'grossArea': 4.1813554, 'netArea': 4.1813554}, 'capacity': {'name': '', 'customProperties': {}, 'customTags': {}, '$metadata': {}}}\n",
      "{'$dtId': 'Room-f4f23d61-d66a-4e1a-a609-4228b2b40700', 'name': '08', 'identifiers': {'IfcGuid': '08dQDBCETEeQ9UXt7umcWR'}, 'customProperties': {}, '$metadata': {'$model': 'dtmi:org:w3id:rec:Room;1'}, 'area': {'name': '', 'customProperties': {}, 'customTags': {}, '$metadata': {}, 'grossArea': 5.3355418, 'netArea': 5.3355418}, 'capacity': {'name': '', 'customProperties': {}, 'customTags': {}, '$metadata': {}}}\n",
      "{'$dtId': 'Room-b94f8f92-f739-409c-ac6b-e92298ef74a0', 'name': '08', 'identifiers': {'IfcGuid': '2mQz1HJRb7xQwBw57Ws01E'}, 'customProperties': {}, '$metadata': {'$model': 'dtmi:org:w3id:rec:Room;1'}, 'area': {'name': '', 'customProperties': {}, 'customTags': {}, '$metadata': {}, 'grossArea': 8.0536916, 'netArea': 8.0536916}, 'capacity': {'name': '', 'customProperties': {}, 'customTags': {}, '$metadata': {}}}\n",
      "{'$dtId': 'Room-5f74fed3-7f4d-49a9-9643-a213840ad32e', 'name': '05', 'identifiers': {'IfcGuid': '3Mxm$Ikon25upgf$HsQt$D'}, 'customProperties': {}, '$metadata': {'$model': 'dtmi:org:w3id:rec:Room;1'}, 'area': {'name': '', 'customProperties': {}, 'customTags': {}, '$metadata': {}, 'grossArea': 13.527543, 'netArea': 13.527543}, 'capacity': {'name': '', 'customProperties': {}, 'customTags': {}, '$metadata': {}}}\n",
      "{'$dtId': 'Room-49a8b660-d0e4-4a27-8baf-fc86c23cc148', 'name': '08', 'identifiers': {'IfcGuid': '0W642ncFL3s8xBT66z3bZx'}, 'customProperties': {}, '$metadata': {'$model': 'dtmi:org:w3id:rec:Room;1'}, 'area': {'name': '', 'customProperties': {}, 'customTags': {}, '$metadata': {}, 'grossArea': 14.666896, 'netArea': 14.666896}, 'capacity': {'name': '', 'customProperties': {}, 'customTags': {}, '$metadata': {}}}\n",
      "{'$dtId': 'Room-9b658baf-1b6d-4efa-9098-7fbc9458be83', 'name': '07', 'identifiers': {'IfcGuid': '0WB6pM8aD5rgHSHQ06kJVi'}, 'customProperties': {}, '$metadata': {'$model': 'dtmi:org:w3id:rec:Room;1'}, 'area': {'name': '', 'customProperties': {}, 'customTags': {}, '$metadata': {}, 'grossArea': 21.61639, 'netArea': 21.61639}, 'capacity': {'name': '', 'customProperties': {}, 'customTags': {}, '$metadata': {}}}\n",
      "{'$dtId': 'Room-f6d5f2db-5f10-4a3e-b835-387958de55ef', 'name': '05', 'identifiers': {'IfcGuid': '1afOYAVcX4lPulTZxWOhmF'}, 'customProperties': {}, '$metadata': {'$model': 'dtmi:org:w3id:rec:Room;1'}, 'area': {'name': '', 'customProperties': {}, 'customTags': {}, '$metadata': {}, 'grossArea': 3.7090442, 'netArea': 3.7090442}, 'capacity': {'name': '', 'customProperties': {}, 'customTags': {}, '$metadata': {}}}\n",
      "{'$dtId': 'Room-40837a25-beb3-4a91-bf8e-369685c77c45', 'name': '06', 'identifiers': {'IfcGuid': '1fgHxkseb6V9GlURfHgOlT'}, 'customProperties': {}, '$metadata': {'$model': 'dtmi:org:w3id:rec:Room;1'}, 'area': {'name': '', 'customProperties': {}, 'customTags': {}, '$metadata': {}, 'grossArea': 5.5479431, 'netArea': 5.5479431}, 'capacity': {'name': '', 'customProperties': {}, 'customTags': {}, '$metadata': {}}}\n",
      "{'$dtId': 'Room-daa22b72-1ef8-4f05-ad79-f00583b2a535', 'name': '05', 'identifiers': {'IfcGuid': '3BXD1tzWz6URSfMlZIKG5g'}, 'customProperties': {}, '$metadata': {'$model': 'dtmi:org:w3id:rec:Room;1'}, 'area': {'name': '', 'customProperties': {}, 'customTags': {}, '$metadata': {}, 'grossArea': 5.7922526, 'netArea': 5.7922526}, 'capacity': {'name': '', 'customProperties': {}, 'customTags': {}, '$metadata': {}}}\n",
      "{'$dtId': 'Room-e270cb43-e8fb-413d-8aae-c801976402a1', 'name': '06', 'identifiers': {'IfcGuid': '12nA1uyx9CTATpMbD2PjwY'}, 'customProperties': {}, '$metadata': {'$model': 'dtmi:org:w3id:rec:Room;1'}, 'area': {'name': '', 'customProperties': {}, 'customTags': {}, '$metadata': {}, 'grossArea': 7.264023, 'netArea': 7.264023}, 'capacity': {'name': '', 'customProperties': {}, 'customTags': {}, '$metadata': {}}}\n",
      "{'$dtId': 'Room-9a7659b5-17b9-46ae-8606-1a9fed5e01c5', 'name': '05', 'identifiers': {'IfcGuid': '2sjVG8PobFWOHTY2ez4ZLw'}, 'customProperties': {}, '$metadata': {'$model': 'dtmi:org:w3id:rec:Room;1'}, 'area': {'name': '', 'customProperties': {}, 'customTags': {}, '$metadata': {}, 'grossArea': 7.4628987, 'netArea': 7.4628987}, 'capacity': {'name': '', 'customProperties': {}, 'customTags': {}, '$metadata': {}}}\n"
     ]
    }
   ],
   "source": [
    "import ifcopenshell.util.element as api\n",
    "for space in ifc_spaces:\n",
    "    psets = api.get_psets(space)\n",
    "    if 'BaseQuantities' in psets and \"NetFloorArea\" in psets['BaseQuantities'] and \"GrossFloorArea\" in psets['BaseQuantities']:\n",
    "        bq_areas = {\"netArea\": psets['BaseQuantities'][\"NetFloorArea\"], \"grossArea\": psets['BaseQuantities'][\"GrossFloorArea\"]}\n",
    "    else:\n",
    "        bq_areas = {}\n",
    "    room_twin = Room(name=space.Name,identifiers={\"IfcGuid\":space.GlobalId},area=bq_areas)\n",
    "    upsert_ifc_twin(room_twin)"
   ]
  },
  {
   "cell_type": "markdown",
   "metadata": {},
   "source": [
    "#### In the Azure Digital Twin it should now look like this after \"SELECT * FROM digitaltwins\"\n",
    "\n",
    "![ADT Explorer Building, Level and room twins](img/building_levels_and_room_twins.png \"ADT Explorer Building, Level and room twins\")"
   ]
  },
  {
   "cell_type": "markdown",
   "metadata": {},
   "source": [
    "#### Then we need to make the connections in the graph\n",
    "\n",
    "The topology of the building can be represented using part relationships. hasPart and the inverse, isPartOf, as listed on eg. [REC documentation for room here.](https://dev.realestatecore.io/ontology/Space/Architecture/Room/Room#inherited-relationships)\n",
    "\n",
    "How can we find which to relate betwen? Levels and Buildings are easy as we only have one Building, but how about Rooms? Well, these relationships are present in the IFC model. It is called [Spatial Decomposition](https://standards.buildingsmart.org/IFC/DEV/IFC4_2/FINAL/HTML/schema/ifcproductextension/lexical/ifcbuilding.htm#:~:text=IfcBuilding%20has%20PARTIAL) that can be accessed through the IsDecomposedBy property that holds a [IfcRelAggregate](https://iaiweb.lbl.gov/Resources/IFC_Releases/R2x3_final/ifckernel/lexical/ifcrelaggregates.htm) that relates the (in this case) Building with its floors and Storeys with its rooms. "
   ]
  },
  {
   "cell_type": "code",
   "execution_count": 77,
   "metadata": {},
   "outputs": [
    {
     "name": "stdout",
     "output_type": "stream",
     "text": [
      "dtid='Building-2bde74d5-a99f-4a5b-add3-0c9032191932' name='Asplund' identifiers={'IfcGuid': '3oUjp0LRHDfvVS2UDNWsfz'} customProperties={} metadata=BuildingMetadata(model='dtmi:org:w3id:rec:Building;1', name=LastUpdateTime(lastUpdateTime=datetime.datetime(2025, 1, 23, 5, 39, 21, 125926, tzinfo=TzInfo(UTC))), identifiers=LastUpdateTime(lastUpdateTime=datetime.datetime(2025, 1, 23, 5, 39, 21, 125926, tzinfo=TzInfo(UTC))), customProperties=LastUpdateTime(lastUpdateTime=datetime.datetime(2025, 1, 23, 5, 39, 21, 125926, tzinfo=TzInfo(UTC))), lastUpdateTime=datetime.datetime(2025, 1, 23, 5, 39, 21, 125926, tzinfo=TzInfo(UTC))) area=ArchitectureArea(dtid=None, name='', identifiers=None, customProperties={}, customTags={}, metadata=ArchitectureAreaMetadata(model=None, name=LastUpdateTime(lastUpdateTime=datetime.datetime(2025, 1, 23, 5, 39, 21, 125926, tzinfo=TzInfo(UTC))), identifiers=None, customProperties=LastUpdateTime(lastUpdateTime=datetime.datetime(2025, 1, 23, 5, 39, 21, 125926, tzinfo=TzInfo(UTC))), lastUpdateTime=datetime.datetime(2025, 1, 23, 5, 39, 21, 125926, tzinfo=TzInfo(UTC)), area=None, grossArea=None, rentableArea=None), grossArea=None, netArea=None, rentableArea=None) capacity=ArchitectureCapacity(dtid=None, name='', identifiers=None, customProperties={}, customTags={}, metadata=ArchitectureCapacityMetadata(model=None, name=LastUpdateTime(lastUpdateTime=datetime.datetime(2025, 1, 23, 5, 39, 21, 125926, tzinfo=TzInfo(UTC))), identifiers=None, customProperties=LastUpdateTime(lastUpdateTime=datetime.datetime(2025, 1, 23, 5, 39, 21, 125926, tzinfo=TzInfo(UTC))), lastUpdateTime=datetime.datetime(2025, 1, 23, 5, 39, 21, 125926, tzinfo=TzInfo(UTC)), maxOccupancy=None, seatingCapacity=None), maxOccupancy=None, seatingCapacity=None)\n",
      "Relating: \n",
      "\t dtid='Level-0e476f26-0971-4abf-bb65-fac0b87d5b1a' name='-2. Fundamentplan' identifiers={'IfcGuid': '02L27m6dDFoAtcd48OiKG5'} customProperties={} metadata=LevelMetadata(model='dtmi:org:w3id:rec:Level;1', name=LastUpdateTime(lastUpdateTime=datetime.datetime(2025, 1, 23, 5, 39, 25, 348336, tzinfo=TzInfo(UTC))), identifiers=LastUpdateTime(lastUpdateTime=datetime.datetime(2025, 1, 23, 5, 39, 25, 348336, tzinfo=TzInfo(UTC))), customProperties=LastUpdateTime(lastUpdateTime=datetime.datetime(2025, 1, 23, 5, 39, 25, 348336, tzinfo=TzInfo(UTC))), lastUpdateTime=datetime.datetime(2025, 1, 23, 5, 39, 25, 348336, tzinfo=TzInfo(UTC))) area=ArchitectureArea(dtid=None, name='', identifiers=None, customProperties={}, customTags={}, metadata=ArchitectureAreaMetadata(model=None, name=LastUpdateTime(lastUpdateTime=datetime.datetime(2025, 1, 23, 5, 39, 25, 348336, tzinfo=TzInfo(UTC))), identifiers=None, customProperties=LastUpdateTime(lastUpdateTime=datetime.datetime(2025, 1, 23, 5, 39, 25, 348336, tzinfo=TzInfo(UTC))), lastUpdateTime=datetime.datetime(2025, 1, 23, 5, 39, 25, 348336, tzinfo=TzInfo(UTC)), area=None, grossArea=None, rentableArea=None), grossArea=None, netArea=None, rentableArea=None) capacity=ArchitectureCapacity(dtid=None, name='', identifiers=None, customProperties={}, customTags={}, metadata=ArchitectureCapacityMetadata(model=None, name=LastUpdateTime(lastUpdateTime=datetime.datetime(2025, 1, 23, 5, 39, 25, 348336, tzinfo=TzInfo(UTC))), identifiers=None, customProperties=LastUpdateTime(lastUpdateTime=datetime.datetime(2025, 1, 23, 5, 39, 25, 348336, tzinfo=TzInfo(UTC))), lastUpdateTime=datetime.datetime(2025, 1, 23, 5, 39, 25, 348336, tzinfo=TzInfo(UTC)), maxOccupancy=None, seatingCapacity=None), maxOccupancy=None, seatingCapacity=None) levelNumber=None\n",
      "Relating: \n",
      "\t dtid='Level-c5877f84-00ca-42aa-b161-fa9e79a82dea' name='-1. Underetasje' identifiers={'IfcGuid': '18DVBjQGbDNh4nL4pLc3T7'} customProperties={} metadata=LevelMetadata(model='dtmi:org:w3id:rec:Level;1', name=LastUpdateTime(lastUpdateTime=datetime.datetime(2025, 1, 23, 5, 39, 25, 476402, tzinfo=TzInfo(UTC))), identifiers=LastUpdateTime(lastUpdateTime=datetime.datetime(2025, 1, 23, 5, 39, 25, 476402, tzinfo=TzInfo(UTC))), customProperties=LastUpdateTime(lastUpdateTime=datetime.datetime(2025, 1, 23, 5, 39, 25, 476402, tzinfo=TzInfo(UTC))), lastUpdateTime=datetime.datetime(2025, 1, 23, 5, 39, 25, 476402, tzinfo=TzInfo(UTC))) area=ArchitectureArea(dtid=None, name='', identifiers=None, customProperties={}, customTags={}, metadata=ArchitectureAreaMetadata(model=None, name=LastUpdateTime(lastUpdateTime=datetime.datetime(2025, 1, 23, 5, 39, 25, 476402, tzinfo=TzInfo(UTC))), identifiers=None, customProperties=LastUpdateTime(lastUpdateTime=datetime.datetime(2025, 1, 23, 5, 39, 25, 476402, tzinfo=TzInfo(UTC))), lastUpdateTime=datetime.datetime(2025, 1, 23, 5, 39, 25, 476402, tzinfo=TzInfo(UTC)), area=None, grossArea=None, rentableArea=None), grossArea=None, netArea=None, rentableArea=None) capacity=ArchitectureCapacity(dtid=None, name='', identifiers=None, customProperties={}, customTags={}, metadata=ArchitectureCapacityMetadata(model=None, name=LastUpdateTime(lastUpdateTime=datetime.datetime(2025, 1, 23, 5, 39, 25, 476402, tzinfo=TzInfo(UTC))), identifiers=None, customProperties=LastUpdateTime(lastUpdateTime=datetime.datetime(2025, 1, 23, 5, 39, 25, 476402, tzinfo=TzInfo(UTC))), lastUpdateTime=datetime.datetime(2025, 1, 23, 5, 39, 25, 476402, tzinfo=TzInfo(UTC)), maxOccupancy=None, seatingCapacity=None), maxOccupancy=None, seatingCapacity=None) levelNumber=None\n",
      "Relating: \n",
      "\t dtid='Level-bb88455d-9cb8-4be2-8d24-4efc0dad10ef' name='0. 1. etasje' identifiers={'IfcGuid': '3swGzdAGvB7OfkTWz$ss3m'} customProperties={} metadata=LevelMetadata(model='dtmi:org:w3id:rec:Level;1', name=LastUpdateTime(lastUpdateTime=datetime.datetime(2025, 1, 23, 5, 39, 25, 729646, tzinfo=TzInfo(UTC))), identifiers=LastUpdateTime(lastUpdateTime=datetime.datetime(2025, 1, 23, 5, 39, 25, 729646, tzinfo=TzInfo(UTC))), customProperties=LastUpdateTime(lastUpdateTime=datetime.datetime(2025, 1, 23, 5, 39, 25, 729646, tzinfo=TzInfo(UTC))), lastUpdateTime=datetime.datetime(2025, 1, 23, 5, 39, 25, 729646, tzinfo=TzInfo(UTC))) area=ArchitectureArea(dtid=None, name='', identifiers=None, customProperties={}, customTags={}, metadata=ArchitectureAreaMetadata(model=None, name=LastUpdateTime(lastUpdateTime=datetime.datetime(2025, 1, 23, 5, 39, 25, 729646, tzinfo=TzInfo(UTC))), identifiers=None, customProperties=LastUpdateTime(lastUpdateTime=datetime.datetime(2025, 1, 23, 5, 39, 25, 729646, tzinfo=TzInfo(UTC))), lastUpdateTime=datetime.datetime(2025, 1, 23, 5, 39, 25, 729646, tzinfo=TzInfo(UTC)), area=None, grossArea=None, rentableArea=None), grossArea=None, netArea=None, rentableArea=None) capacity=ArchitectureCapacity(dtid=None, name='', identifiers=None, customProperties={}, customTags={}, metadata=ArchitectureCapacityMetadata(model=None, name=LastUpdateTime(lastUpdateTime=datetime.datetime(2025, 1, 23, 5, 39, 25, 729646, tzinfo=TzInfo(UTC))), identifiers=None, customProperties=LastUpdateTime(lastUpdateTime=datetime.datetime(2025, 1, 23, 5, 39, 25, 729646, tzinfo=TzInfo(UTC))), lastUpdateTime=datetime.datetime(2025, 1, 23, 5, 39, 25, 729646, tzinfo=TzInfo(UTC)), maxOccupancy=None, seatingCapacity=None), maxOccupancy=None, seatingCapacity=None) levelNumber=None\n",
      "Relating: \n",
      "\t dtid='Level-8ae3c401-83f6-46a3-bcec-0b8bf1c80db9' name='1. 2. etasje' identifiers={'IfcGuid': '3$$bP5qLTBtfpI1uH8dN25'} customProperties={} metadata=LevelMetadata(model='dtmi:org:w3id:rec:Level;1', name=LastUpdateTime(lastUpdateTime=datetime.datetime(2025, 1, 23, 5, 39, 25, 847426, tzinfo=TzInfo(UTC))), identifiers=LastUpdateTime(lastUpdateTime=datetime.datetime(2025, 1, 23, 5, 39, 25, 847426, tzinfo=TzInfo(UTC))), customProperties=LastUpdateTime(lastUpdateTime=datetime.datetime(2025, 1, 23, 5, 39, 25, 847426, tzinfo=TzInfo(UTC))), lastUpdateTime=datetime.datetime(2025, 1, 23, 5, 39, 25, 847426, tzinfo=TzInfo(UTC))) area=ArchitectureArea(dtid=None, name='', identifiers=None, customProperties={}, customTags={}, metadata=ArchitectureAreaMetadata(model=None, name=LastUpdateTime(lastUpdateTime=datetime.datetime(2025, 1, 23, 5, 39, 25, 847426, tzinfo=TzInfo(UTC))), identifiers=None, customProperties=LastUpdateTime(lastUpdateTime=datetime.datetime(2025, 1, 23, 5, 39, 25, 847426, tzinfo=TzInfo(UTC))), lastUpdateTime=datetime.datetime(2025, 1, 23, 5, 39, 25, 847426, tzinfo=TzInfo(UTC)), area=None, grossArea=None, rentableArea=None), grossArea=None, netArea=None, rentableArea=None) capacity=ArchitectureCapacity(dtid=None, name='', identifiers=None, customProperties={}, customTags={}, metadata=ArchitectureCapacityMetadata(model=None, name=LastUpdateTime(lastUpdateTime=datetime.datetime(2025, 1, 23, 5, 39, 25, 847426, tzinfo=TzInfo(UTC))), identifiers=None, customProperties=LastUpdateTime(lastUpdateTime=datetime.datetime(2025, 1, 23, 5, 39, 25, 847426, tzinfo=TzInfo(UTC))), lastUpdateTime=datetime.datetime(2025, 1, 23, 5, 39, 25, 847426, tzinfo=TzInfo(UTC)), maxOccupancy=None, seatingCapacity=None), maxOccupancy=None, seatingCapacity=None) levelNumber=None\n",
      "Relating: \n",
      "\t dtid='Level-8ae168e0-b75b-410c-8458-70e37c07fff7' name='2. Story' identifiers={'IfcGuid': '1w$bRVeDv68vuEsFJ0ich4'} customProperties={} metadata=LevelMetadata(model='dtmi:org:w3id:rec:Level;1', name=LastUpdateTime(lastUpdateTime=datetime.datetime(2025, 1, 23, 5, 39, 25, 972588, tzinfo=TzInfo(UTC))), identifiers=LastUpdateTime(lastUpdateTime=datetime.datetime(2025, 1, 23, 5, 39, 25, 972588, tzinfo=TzInfo(UTC))), customProperties=LastUpdateTime(lastUpdateTime=datetime.datetime(2025, 1, 23, 5, 39, 25, 972588, tzinfo=TzInfo(UTC))), lastUpdateTime=datetime.datetime(2025, 1, 23, 5, 39, 25, 972588, tzinfo=TzInfo(UTC))) area=ArchitectureArea(dtid=None, name='', identifiers=None, customProperties={}, customTags={}, metadata=ArchitectureAreaMetadata(model=None, name=LastUpdateTime(lastUpdateTime=datetime.datetime(2025, 1, 23, 5, 39, 25, 972588, tzinfo=TzInfo(UTC))), identifiers=None, customProperties=LastUpdateTime(lastUpdateTime=datetime.datetime(2025, 1, 23, 5, 39, 25, 972588, tzinfo=TzInfo(UTC))), lastUpdateTime=datetime.datetime(2025, 1, 23, 5, 39, 25, 972588, tzinfo=TzInfo(UTC)), area=None, grossArea=None, rentableArea=None), grossArea=None, netArea=None, rentableArea=None) capacity=ArchitectureCapacity(dtid=None, name='', identifiers=None, customProperties={}, customTags={}, metadata=ArchitectureCapacityMetadata(model=None, name=LastUpdateTime(lastUpdateTime=datetime.datetime(2025, 1, 23, 5, 39, 25, 972588, tzinfo=TzInfo(UTC))), identifiers=None, customProperties=LastUpdateTime(lastUpdateTime=datetime.datetime(2025, 1, 23, 5, 39, 25, 972588, tzinfo=TzInfo(UTC))), lastUpdateTime=datetime.datetime(2025, 1, 23, 5, 39, 25, 972588, tzinfo=TzInfo(UTC)), maxOccupancy=None, seatingCapacity=None), maxOccupancy=None, seatingCapacity=None) levelNumber=None\n"
     ]
    }
   ],
   "source": [
    "## Relating the building to its levels\n",
    "for building in ifc_buildings:\n",
    "\n",
    "    building_twin = Building(**get_twin_by_ifc_guid(building.GlobalId))\n",
    "    print(building_twin)\n",
    "    for rel_aggregate in building.IsDecomposedBy:\n",
    "        related_storeys = rel_aggregate.RelatedObjects \n",
    "        for storey in related_storeys:\n",
    "            storey_twin = Level(**get_twin_by_ifc_guid(storey.GlobalId))\n",
    "            print(\"Relating: \\n\\t\", storey_twin)\n",
    "            add_part_relationship(building_twin,storey_twin)\n",
    "            \n"
   ]
  },
  {
   "cell_type": "markdown",
   "metadata": {},
   "source": [
    "#### Now you should see some related twins and some roming rooms when executing \"SELECT * FROM digitaltwins\"\n",
    "\n",
    "![ADT Explorer Building related to Levels](img/building_related_to_levels.png \"ADT Explorer Building related to Levels\")"
   ]
  },
  {
   "cell_type": "code",
   "execution_count": 80,
   "metadata": {},
   "outputs": [
    {
     "name": "stdout",
     "output_type": "stream",
     "text": [
      "dtid='Level-0e476f26-0971-4abf-bb65-fac0b87d5b1a' name='-2. Fundamentplan' identifiers={'IfcGuid': '02L27m6dDFoAtcd48OiKG5'} customProperties={} metadata=LevelMetadata(model='dtmi:org:w3id:rec:Level;1', name=LastUpdateTime(lastUpdateTime=datetime.datetime(2025, 1, 23, 5, 39, 25, 348336, tzinfo=TzInfo(UTC))), identifiers=LastUpdateTime(lastUpdateTime=datetime.datetime(2025, 1, 23, 5, 39, 25, 348336, tzinfo=TzInfo(UTC))), customProperties=LastUpdateTime(lastUpdateTime=datetime.datetime(2025, 1, 23, 5, 39, 25, 348336, tzinfo=TzInfo(UTC))), lastUpdateTime=datetime.datetime(2025, 1, 23, 5, 39, 25, 348336, tzinfo=TzInfo(UTC))) area=ArchitectureArea(dtid=None, name='', identifiers=None, customProperties={}, customTags={}, metadata=ArchitectureAreaMetadata(model=None, name=LastUpdateTime(lastUpdateTime=datetime.datetime(2025, 1, 23, 5, 39, 25, 348336, tzinfo=TzInfo(UTC))), identifiers=None, customProperties=LastUpdateTime(lastUpdateTime=datetime.datetime(2025, 1, 23, 5, 39, 25, 348336, tzinfo=TzInfo(UTC))), lastUpdateTime=datetime.datetime(2025, 1, 23, 5, 39, 25, 348336, tzinfo=TzInfo(UTC)), area=None, grossArea=None, rentableArea=None), grossArea=None, netArea=None, rentableArea=None) capacity=ArchitectureCapacity(dtid=None, name='', identifiers=None, customProperties={}, customTags={}, metadata=ArchitectureCapacityMetadata(model=None, name=LastUpdateTime(lastUpdateTime=datetime.datetime(2025, 1, 23, 5, 39, 25, 348336, tzinfo=TzInfo(UTC))), identifiers=None, customProperties=LastUpdateTime(lastUpdateTime=datetime.datetime(2025, 1, 23, 5, 39, 25, 348336, tzinfo=TzInfo(UTC))), lastUpdateTime=datetime.datetime(2025, 1, 23, 5, 39, 25, 348336, tzinfo=TzInfo(UTC)), maxOccupancy=None, seatingCapacity=None), maxOccupancy=None, seatingCapacity=None) levelNumber=None\n",
      "dtid='Level-c5877f84-00ca-42aa-b161-fa9e79a82dea' name='-1. Underetasje' identifiers={'IfcGuid': '18DVBjQGbDNh4nL4pLc3T7'} customProperties={} metadata=LevelMetadata(model='dtmi:org:w3id:rec:Level;1', name=LastUpdateTime(lastUpdateTime=datetime.datetime(2025, 1, 23, 5, 39, 25, 476402, tzinfo=TzInfo(UTC))), identifiers=LastUpdateTime(lastUpdateTime=datetime.datetime(2025, 1, 23, 5, 39, 25, 476402, tzinfo=TzInfo(UTC))), customProperties=LastUpdateTime(lastUpdateTime=datetime.datetime(2025, 1, 23, 5, 39, 25, 476402, tzinfo=TzInfo(UTC))), lastUpdateTime=datetime.datetime(2025, 1, 23, 5, 39, 25, 476402, tzinfo=TzInfo(UTC))) area=ArchitectureArea(dtid=None, name='', identifiers=None, customProperties={}, customTags={}, metadata=ArchitectureAreaMetadata(model=None, name=LastUpdateTime(lastUpdateTime=datetime.datetime(2025, 1, 23, 5, 39, 25, 476402, tzinfo=TzInfo(UTC))), identifiers=None, customProperties=LastUpdateTime(lastUpdateTime=datetime.datetime(2025, 1, 23, 5, 39, 25, 476402, tzinfo=TzInfo(UTC))), lastUpdateTime=datetime.datetime(2025, 1, 23, 5, 39, 25, 476402, tzinfo=TzInfo(UTC)), area=None, grossArea=None, rentableArea=None), grossArea=None, netArea=None, rentableArea=None) capacity=ArchitectureCapacity(dtid=None, name='', identifiers=None, customProperties={}, customTags={}, metadata=ArchitectureCapacityMetadata(model=None, name=LastUpdateTime(lastUpdateTime=datetime.datetime(2025, 1, 23, 5, 39, 25, 476402, tzinfo=TzInfo(UTC))), identifiers=None, customProperties=LastUpdateTime(lastUpdateTime=datetime.datetime(2025, 1, 23, 5, 39, 25, 476402, tzinfo=TzInfo(UTC))), lastUpdateTime=datetime.datetime(2025, 1, 23, 5, 39, 25, 476402, tzinfo=TzInfo(UTC)), maxOccupancy=None, seatingCapacity=None), maxOccupancy=None, seatingCapacity=None) levelNumber=None\n",
      "dtid='Level-bb88455d-9cb8-4be2-8d24-4efc0dad10ef' name='0. 1. etasje' identifiers={'IfcGuid': '3swGzdAGvB7OfkTWz$ss3m'} customProperties={} metadata=LevelMetadata(model='dtmi:org:w3id:rec:Level;1', name=LastUpdateTime(lastUpdateTime=datetime.datetime(2025, 1, 23, 5, 39, 25, 729646, tzinfo=TzInfo(UTC))), identifiers=LastUpdateTime(lastUpdateTime=datetime.datetime(2025, 1, 23, 5, 39, 25, 729646, tzinfo=TzInfo(UTC))), customProperties=LastUpdateTime(lastUpdateTime=datetime.datetime(2025, 1, 23, 5, 39, 25, 729646, tzinfo=TzInfo(UTC))), lastUpdateTime=datetime.datetime(2025, 1, 23, 5, 39, 25, 729646, tzinfo=TzInfo(UTC))) area=ArchitectureArea(dtid=None, name='', identifiers=None, customProperties={}, customTags={}, metadata=ArchitectureAreaMetadata(model=None, name=LastUpdateTime(lastUpdateTime=datetime.datetime(2025, 1, 23, 5, 39, 25, 729646, tzinfo=TzInfo(UTC))), identifiers=None, customProperties=LastUpdateTime(lastUpdateTime=datetime.datetime(2025, 1, 23, 5, 39, 25, 729646, tzinfo=TzInfo(UTC))), lastUpdateTime=datetime.datetime(2025, 1, 23, 5, 39, 25, 729646, tzinfo=TzInfo(UTC)), area=None, grossArea=None, rentableArea=None), grossArea=None, netArea=None, rentableArea=None) capacity=ArchitectureCapacity(dtid=None, name='', identifiers=None, customProperties={}, customTags={}, metadata=ArchitectureCapacityMetadata(model=None, name=LastUpdateTime(lastUpdateTime=datetime.datetime(2025, 1, 23, 5, 39, 25, 729646, tzinfo=TzInfo(UTC))), identifiers=None, customProperties=LastUpdateTime(lastUpdateTime=datetime.datetime(2025, 1, 23, 5, 39, 25, 729646, tzinfo=TzInfo(UTC))), lastUpdateTime=datetime.datetime(2025, 1, 23, 5, 39, 25, 729646, tzinfo=TzInfo(UTC)), maxOccupancy=None, seatingCapacity=None), maxOccupancy=None, seatingCapacity=None) levelNumber=None\n",
      "Relating: \n",
      "\t dtid='Room-61ce1897-44c1-4499-b924-86539e4305ae' name='07' identifiers={'IfcGuid': '3nEpfmJzn4lfik7wGpJyAt'} customProperties={} metadata=RoomMetadata(model='dtmi:org:w3id:rec:Room;1', name=LastUpdateTime(lastUpdateTime=datetime.datetime(2025, 1, 23, 5, 39, 30, 586713, tzinfo=TzInfo(UTC))), identifiers=LastUpdateTime(lastUpdateTime=datetime.datetime(2025, 1, 23, 5, 39, 30, 586713, tzinfo=TzInfo(UTC))), customProperties=LastUpdateTime(lastUpdateTime=datetime.datetime(2025, 1, 23, 5, 39, 30, 586713, tzinfo=TzInfo(UTC))), lastUpdateTime=datetime.datetime(2025, 1, 23, 5, 39, 30, 586713, tzinfo=TzInfo(UTC))) area=ArchitectureArea(dtid=None, name='', identifiers=None, customProperties={}, customTags={}, metadata=ArchitectureAreaMetadata(model=None, name=LastUpdateTime(lastUpdateTime=datetime.datetime(2025, 1, 23, 5, 39, 30, 586713, tzinfo=TzInfo(UTC))), identifiers=None, customProperties=LastUpdateTime(lastUpdateTime=datetime.datetime(2025, 1, 23, 5, 39, 30, 586713, tzinfo=TzInfo(UTC))), lastUpdateTime=datetime.datetime(2025, 1, 23, 5, 39, 30, 586713, tzinfo=TzInfo(UTC)), area=None, grossArea=LastUpdateTime(lastUpdateTime=datetime.datetime(2025, 1, 23, 5, 39, 30, 586713, tzinfo=TzInfo(UTC))), rentableArea=None), grossArea=23.814728, netArea=23.814728, rentableArea=None) capacity=ArchitectureCapacity(dtid=None, name='', identifiers=None, customProperties={}, customTags={}, metadata=ArchitectureCapacityMetadata(model=None, name=LastUpdateTime(lastUpdateTime=datetime.datetime(2025, 1, 23, 5, 39, 30, 586713, tzinfo=TzInfo(UTC))), identifiers=None, customProperties=LastUpdateTime(lastUpdateTime=datetime.datetime(2025, 1, 23, 5, 39, 30, 586713, tzinfo=TzInfo(UTC))), lastUpdateTime=datetime.datetime(2025, 1, 23, 5, 39, 30, 586713, tzinfo=TzInfo(UTC)), maxOccupancy=None, seatingCapacity=None), maxOccupancy=None, seatingCapacity=None)\n",
      "Relating: \n",
      "\t dtid='Room-4c9411a0-93a6-48d7-92f1-c7fe8bb8fc2b' name='08' identifiers={'IfcGuid': '0KmPi6DIb3OOj1yzsHQeAC'} customProperties={} metadata=RoomMetadata(model='dtmi:org:w3id:rec:Room;1', name=LastUpdateTime(lastUpdateTime=datetime.datetime(2025, 1, 23, 5, 39, 30, 744473, tzinfo=TzInfo(UTC))), identifiers=LastUpdateTime(lastUpdateTime=datetime.datetime(2025, 1, 23, 5, 39, 30, 744473, tzinfo=TzInfo(UTC))), customProperties=LastUpdateTime(lastUpdateTime=datetime.datetime(2025, 1, 23, 5, 39, 30, 744473, tzinfo=TzInfo(UTC))), lastUpdateTime=datetime.datetime(2025, 1, 23, 5, 39, 30, 744473, tzinfo=TzInfo(UTC))) area=ArchitectureArea(dtid=None, name='', identifiers=None, customProperties={}, customTags={}, metadata=ArchitectureAreaMetadata(model=None, name=LastUpdateTime(lastUpdateTime=datetime.datetime(2025, 1, 23, 5, 39, 30, 744473, tzinfo=TzInfo(UTC))), identifiers=None, customProperties=LastUpdateTime(lastUpdateTime=datetime.datetime(2025, 1, 23, 5, 39, 30, 744473, tzinfo=TzInfo(UTC))), lastUpdateTime=datetime.datetime(2025, 1, 23, 5, 39, 30, 744473, tzinfo=TzInfo(UTC)), area=None, grossArea=LastUpdateTime(lastUpdateTime=datetime.datetime(2025, 1, 23, 5, 39, 30, 744473, tzinfo=TzInfo(UTC))), rentableArea=None), grossArea=10.938164, netArea=10.938164, rentableArea=None) capacity=ArchitectureCapacity(dtid=None, name='', identifiers=None, customProperties={}, customTags={}, metadata=ArchitectureCapacityMetadata(model=None, name=LastUpdateTime(lastUpdateTime=datetime.datetime(2025, 1, 23, 5, 39, 30, 744473, tzinfo=TzInfo(UTC))), identifiers=None, customProperties=LastUpdateTime(lastUpdateTime=datetime.datetime(2025, 1, 23, 5, 39, 30, 744473, tzinfo=TzInfo(UTC))), lastUpdateTime=datetime.datetime(2025, 1, 23, 5, 39, 30, 744473, tzinfo=TzInfo(UTC)), maxOccupancy=None, seatingCapacity=None), maxOccupancy=None, seatingCapacity=None)\n",
      "Relating: \n",
      "\t dtid='Room-6ab6333a-367b-425c-93c6-33af6dc8c8e2' name='07' identifiers={'IfcGuid': '0q24Bo_G940wCmX0qqAnot'} customProperties={} metadata=RoomMetadata(model='dtmi:org:w3id:rec:Room;1', name=LastUpdateTime(lastUpdateTime=datetime.datetime(2025, 1, 23, 5, 39, 30, 944668, tzinfo=TzInfo(UTC))), identifiers=LastUpdateTime(lastUpdateTime=datetime.datetime(2025, 1, 23, 5, 39, 30, 944668, tzinfo=TzInfo(UTC))), customProperties=LastUpdateTime(lastUpdateTime=datetime.datetime(2025, 1, 23, 5, 39, 30, 944668, tzinfo=TzInfo(UTC))), lastUpdateTime=datetime.datetime(2025, 1, 23, 5, 39, 30, 944668, tzinfo=TzInfo(UTC))) area=ArchitectureArea(dtid=None, name='', identifiers=None, customProperties={}, customTags={}, metadata=ArchitectureAreaMetadata(model=None, name=LastUpdateTime(lastUpdateTime=datetime.datetime(2025, 1, 23, 5, 39, 30, 944668, tzinfo=TzInfo(UTC))), identifiers=None, customProperties=LastUpdateTime(lastUpdateTime=datetime.datetime(2025, 1, 23, 5, 39, 30, 944668, tzinfo=TzInfo(UTC))), lastUpdateTime=datetime.datetime(2025, 1, 23, 5, 39, 30, 944668, tzinfo=TzInfo(UTC)), area=None, grossArea=LastUpdateTime(lastUpdateTime=datetime.datetime(2025, 1, 23, 5, 39, 30, 944668, tzinfo=TzInfo(UTC))), rentableArea=None), grossArea=22.966222, netArea=22.966222, rentableArea=None) capacity=ArchitectureCapacity(dtid=None, name='', identifiers=None, customProperties={}, customTags={}, metadata=ArchitectureCapacityMetadata(model=None, name=LastUpdateTime(lastUpdateTime=datetime.datetime(2025, 1, 23, 5, 39, 30, 944668, tzinfo=TzInfo(UTC))), identifiers=None, customProperties=LastUpdateTime(lastUpdateTime=datetime.datetime(2025, 1, 23, 5, 39, 30, 944668, tzinfo=TzInfo(UTC))), lastUpdateTime=datetime.datetime(2025, 1, 23, 5, 39, 30, 944668, tzinfo=TzInfo(UTC)), maxOccupancy=None, seatingCapacity=None), maxOccupancy=None, seatingCapacity=None)\n",
      "Relating: \n",
      "\t dtid='Room-a2342df2-43d8-4cbf-939a-cecc83ce0792' name='09' identifiers={'IfcGuid': '2UVFZHXPz5VPs5RGyESS1R'} customProperties={} metadata=RoomMetadata(model='dtmi:org:w3id:rec:Room;1', name=LastUpdateTime(lastUpdateTime=datetime.datetime(2025, 1, 23, 5, 39, 31, 95577, tzinfo=TzInfo(UTC))), identifiers=LastUpdateTime(lastUpdateTime=datetime.datetime(2025, 1, 23, 5, 39, 31, 95577, tzinfo=TzInfo(UTC))), customProperties=LastUpdateTime(lastUpdateTime=datetime.datetime(2025, 1, 23, 5, 39, 31, 95577, tzinfo=TzInfo(UTC))), lastUpdateTime=datetime.datetime(2025, 1, 23, 5, 39, 31, 95577, tzinfo=TzInfo(UTC))) area=ArchitectureArea(dtid=None, name='', identifiers=None, customProperties={}, customTags={}, metadata=ArchitectureAreaMetadata(model=None, name=LastUpdateTime(lastUpdateTime=datetime.datetime(2025, 1, 23, 5, 39, 31, 95577, tzinfo=TzInfo(UTC))), identifiers=None, customProperties=LastUpdateTime(lastUpdateTime=datetime.datetime(2025, 1, 23, 5, 39, 31, 95577, tzinfo=TzInfo(UTC))), lastUpdateTime=datetime.datetime(2025, 1, 23, 5, 39, 31, 95577, tzinfo=TzInfo(UTC)), area=None, grossArea=LastUpdateTime(lastUpdateTime=datetime.datetime(2025, 1, 23, 5, 39, 31, 95577, tzinfo=TzInfo(UTC))), rentableArea=None), grossArea=5.1685138, netArea=5.1685138, rentableArea=None) capacity=ArchitectureCapacity(dtid=None, name='', identifiers=None, customProperties={}, customTags={}, metadata=ArchitectureCapacityMetadata(model=None, name=LastUpdateTime(lastUpdateTime=datetime.datetime(2025, 1, 23, 5, 39, 31, 95577, tzinfo=TzInfo(UTC))), identifiers=None, customProperties=LastUpdateTime(lastUpdateTime=datetime.datetime(2025, 1, 23, 5, 39, 31, 95577, tzinfo=TzInfo(UTC))), lastUpdateTime=datetime.datetime(2025, 1, 23, 5, 39, 31, 95577, tzinfo=TzInfo(UTC)), maxOccupancy=None, seatingCapacity=None), maxOccupancy=None, seatingCapacity=None)\n",
      "Relating: \n",
      "\t dtid='Room-dd89b29f-1ef2-4f0c-8b84-f62365b49c8d' name='09' identifiers={'IfcGuid': '2YXxUZJBX829vCankGckap'} customProperties={} metadata=RoomMetadata(model='dtmi:org:w3id:rec:Room;1', name=LastUpdateTime(lastUpdateTime=datetime.datetime(2025, 1, 23, 5, 39, 31, 242389, tzinfo=TzInfo(UTC))), identifiers=LastUpdateTime(lastUpdateTime=datetime.datetime(2025, 1, 23, 5, 39, 31, 242389, tzinfo=TzInfo(UTC))), customProperties=LastUpdateTime(lastUpdateTime=datetime.datetime(2025, 1, 23, 5, 39, 31, 242389, tzinfo=TzInfo(UTC))), lastUpdateTime=datetime.datetime(2025, 1, 23, 5, 39, 31, 242389, tzinfo=TzInfo(UTC))) area=ArchitectureArea(dtid=None, name='', identifiers=None, customProperties={}, customTags={}, metadata=ArchitectureAreaMetadata(model=None, name=LastUpdateTime(lastUpdateTime=datetime.datetime(2025, 1, 23, 5, 39, 31, 242389, tzinfo=TzInfo(UTC))), identifiers=None, customProperties=LastUpdateTime(lastUpdateTime=datetime.datetime(2025, 1, 23, 5, 39, 31, 242389, tzinfo=TzInfo(UTC))), lastUpdateTime=datetime.datetime(2025, 1, 23, 5, 39, 31, 242389, tzinfo=TzInfo(UTC)), area=None, grossArea=LastUpdateTime(lastUpdateTime=datetime.datetime(2025, 1, 23, 5, 39, 31, 242389, tzinfo=TzInfo(UTC))), rentableArea=None), grossArea=4.1813554, netArea=4.1813554, rentableArea=None) capacity=ArchitectureCapacity(dtid=None, name='', identifiers=None, customProperties={}, customTags={}, metadata=ArchitectureCapacityMetadata(model=None, name=LastUpdateTime(lastUpdateTime=datetime.datetime(2025, 1, 23, 5, 39, 31, 242389, tzinfo=TzInfo(UTC))), identifiers=None, customProperties=LastUpdateTime(lastUpdateTime=datetime.datetime(2025, 1, 23, 5, 39, 31, 242389, tzinfo=TzInfo(UTC))), lastUpdateTime=datetime.datetime(2025, 1, 23, 5, 39, 31, 242389, tzinfo=TzInfo(UTC)), maxOccupancy=None, seatingCapacity=None), maxOccupancy=None, seatingCapacity=None)\n",
      "Relating: \n",
      "\t dtid='Room-f4f23d61-d66a-4e1a-a609-4228b2b40700' name='08' identifiers={'IfcGuid': '08dQDBCETEeQ9UXt7umcWR'} customProperties={} metadata=RoomMetadata(model='dtmi:org:w3id:rec:Room;1', name=LastUpdateTime(lastUpdateTime=datetime.datetime(2025, 1, 23, 5, 39, 31, 427575, tzinfo=TzInfo(UTC))), identifiers=LastUpdateTime(lastUpdateTime=datetime.datetime(2025, 1, 23, 5, 39, 31, 427575, tzinfo=TzInfo(UTC))), customProperties=LastUpdateTime(lastUpdateTime=datetime.datetime(2025, 1, 23, 5, 39, 31, 427575, tzinfo=TzInfo(UTC))), lastUpdateTime=datetime.datetime(2025, 1, 23, 5, 39, 31, 427575, tzinfo=TzInfo(UTC))) area=ArchitectureArea(dtid=None, name='', identifiers=None, customProperties={}, customTags={}, metadata=ArchitectureAreaMetadata(model=None, name=LastUpdateTime(lastUpdateTime=datetime.datetime(2025, 1, 23, 5, 39, 31, 427575, tzinfo=TzInfo(UTC))), identifiers=None, customProperties=LastUpdateTime(lastUpdateTime=datetime.datetime(2025, 1, 23, 5, 39, 31, 427575, tzinfo=TzInfo(UTC))), lastUpdateTime=datetime.datetime(2025, 1, 23, 5, 39, 31, 427575, tzinfo=TzInfo(UTC)), area=None, grossArea=LastUpdateTime(lastUpdateTime=datetime.datetime(2025, 1, 23, 5, 39, 31, 427575, tzinfo=TzInfo(UTC))), rentableArea=None), grossArea=5.3355418, netArea=5.3355418, rentableArea=None) capacity=ArchitectureCapacity(dtid=None, name='', identifiers=None, customProperties={}, customTags={}, metadata=ArchitectureCapacityMetadata(model=None, name=LastUpdateTime(lastUpdateTime=datetime.datetime(2025, 1, 23, 5, 39, 31, 427575, tzinfo=TzInfo(UTC))), identifiers=None, customProperties=LastUpdateTime(lastUpdateTime=datetime.datetime(2025, 1, 23, 5, 39, 31, 427575, tzinfo=TzInfo(UTC))), lastUpdateTime=datetime.datetime(2025, 1, 23, 5, 39, 31, 427575, tzinfo=TzInfo(UTC)), maxOccupancy=None, seatingCapacity=None), maxOccupancy=None, seatingCapacity=None)\n",
      "Relating: \n",
      "\t dtid='Room-b94f8f92-f739-409c-ac6b-e92298ef74a0' name='08' identifiers={'IfcGuid': '2mQz1HJRb7xQwBw57Ws01E'} customProperties={} metadata=RoomMetadata(model='dtmi:org:w3id:rec:Room;1', name=LastUpdateTime(lastUpdateTime=datetime.datetime(2025, 1, 23, 5, 39, 31, 583359, tzinfo=TzInfo(UTC))), identifiers=LastUpdateTime(lastUpdateTime=datetime.datetime(2025, 1, 23, 5, 39, 31, 583359, tzinfo=TzInfo(UTC))), customProperties=LastUpdateTime(lastUpdateTime=datetime.datetime(2025, 1, 23, 5, 39, 31, 583359, tzinfo=TzInfo(UTC))), lastUpdateTime=datetime.datetime(2025, 1, 23, 5, 39, 31, 583359, tzinfo=TzInfo(UTC))) area=ArchitectureArea(dtid=None, name='', identifiers=None, customProperties={}, customTags={}, metadata=ArchitectureAreaMetadata(model=None, name=LastUpdateTime(lastUpdateTime=datetime.datetime(2025, 1, 23, 5, 39, 31, 583359, tzinfo=TzInfo(UTC))), identifiers=None, customProperties=LastUpdateTime(lastUpdateTime=datetime.datetime(2025, 1, 23, 5, 39, 31, 583359, tzinfo=TzInfo(UTC))), lastUpdateTime=datetime.datetime(2025, 1, 23, 5, 39, 31, 583359, tzinfo=TzInfo(UTC)), area=None, grossArea=LastUpdateTime(lastUpdateTime=datetime.datetime(2025, 1, 23, 5, 39, 31, 583359, tzinfo=TzInfo(UTC))), rentableArea=None), grossArea=8.0536916, netArea=8.0536916, rentableArea=None) capacity=ArchitectureCapacity(dtid=None, name='', identifiers=None, customProperties={}, customTags={}, metadata=ArchitectureCapacityMetadata(model=None, name=LastUpdateTime(lastUpdateTime=datetime.datetime(2025, 1, 23, 5, 39, 31, 583359, tzinfo=TzInfo(UTC))), identifiers=None, customProperties=LastUpdateTime(lastUpdateTime=datetime.datetime(2025, 1, 23, 5, 39, 31, 583359, tzinfo=TzInfo(UTC))), lastUpdateTime=datetime.datetime(2025, 1, 23, 5, 39, 31, 583359, tzinfo=TzInfo(UTC)), maxOccupancy=None, seatingCapacity=None), maxOccupancy=None, seatingCapacity=None)\n",
      "dtid='Level-8ae3c401-83f6-46a3-bcec-0b8bf1c80db9' name='1. 2. etasje' identifiers={'IfcGuid': '3$$bP5qLTBtfpI1uH8dN25'} customProperties={} metadata=LevelMetadata(model='dtmi:org:w3id:rec:Level;1', name=LastUpdateTime(lastUpdateTime=datetime.datetime(2025, 1, 23, 5, 39, 25, 847426, tzinfo=TzInfo(UTC))), identifiers=LastUpdateTime(lastUpdateTime=datetime.datetime(2025, 1, 23, 5, 39, 25, 847426, tzinfo=TzInfo(UTC))), customProperties=LastUpdateTime(lastUpdateTime=datetime.datetime(2025, 1, 23, 5, 39, 25, 847426, tzinfo=TzInfo(UTC))), lastUpdateTime=datetime.datetime(2025, 1, 23, 5, 39, 25, 847426, tzinfo=TzInfo(UTC))) area=ArchitectureArea(dtid=None, name='', identifiers=None, customProperties={}, customTags={}, metadata=ArchitectureAreaMetadata(model=None, name=LastUpdateTime(lastUpdateTime=datetime.datetime(2025, 1, 23, 5, 39, 25, 847426, tzinfo=TzInfo(UTC))), identifiers=None, customProperties=LastUpdateTime(lastUpdateTime=datetime.datetime(2025, 1, 23, 5, 39, 25, 847426, tzinfo=TzInfo(UTC))), lastUpdateTime=datetime.datetime(2025, 1, 23, 5, 39, 25, 847426, tzinfo=TzInfo(UTC)), area=None, grossArea=None, rentableArea=None), grossArea=None, netArea=None, rentableArea=None) capacity=ArchitectureCapacity(dtid=None, name='', identifiers=None, customProperties={}, customTags={}, metadata=ArchitectureCapacityMetadata(model=None, name=LastUpdateTime(lastUpdateTime=datetime.datetime(2025, 1, 23, 5, 39, 25, 847426, tzinfo=TzInfo(UTC))), identifiers=None, customProperties=LastUpdateTime(lastUpdateTime=datetime.datetime(2025, 1, 23, 5, 39, 25, 847426, tzinfo=TzInfo(UTC))), lastUpdateTime=datetime.datetime(2025, 1, 23, 5, 39, 25, 847426, tzinfo=TzInfo(UTC)), maxOccupancy=None, seatingCapacity=None), maxOccupancy=None, seatingCapacity=None) levelNumber=None\n",
      "Relating: \n",
      "\t dtid='Room-5f74fed3-7f4d-49a9-9643-a213840ad32e' name='05' identifiers={'IfcGuid': '3Mxm$Ikon25upgf$HsQt$D'} customProperties={} metadata=RoomMetadata(model='dtmi:org:w3id:rec:Room;1', name=LastUpdateTime(lastUpdateTime=datetime.datetime(2025, 1, 23, 5, 39, 31, 710458, tzinfo=TzInfo(UTC))), identifiers=LastUpdateTime(lastUpdateTime=datetime.datetime(2025, 1, 23, 5, 39, 31, 710458, tzinfo=TzInfo(UTC))), customProperties=LastUpdateTime(lastUpdateTime=datetime.datetime(2025, 1, 23, 5, 39, 31, 710458, tzinfo=TzInfo(UTC))), lastUpdateTime=datetime.datetime(2025, 1, 23, 5, 39, 31, 710458, tzinfo=TzInfo(UTC))) area=ArchitectureArea(dtid=None, name='', identifiers=None, customProperties={}, customTags={}, metadata=ArchitectureAreaMetadata(model=None, name=LastUpdateTime(lastUpdateTime=datetime.datetime(2025, 1, 23, 5, 39, 31, 710458, tzinfo=TzInfo(UTC))), identifiers=None, customProperties=LastUpdateTime(lastUpdateTime=datetime.datetime(2025, 1, 23, 5, 39, 31, 710458, tzinfo=TzInfo(UTC))), lastUpdateTime=datetime.datetime(2025, 1, 23, 5, 39, 31, 710458, tzinfo=TzInfo(UTC)), area=None, grossArea=LastUpdateTime(lastUpdateTime=datetime.datetime(2025, 1, 23, 5, 39, 31, 710458, tzinfo=TzInfo(UTC))), rentableArea=None), grossArea=13.527543, netArea=13.527543, rentableArea=None) capacity=ArchitectureCapacity(dtid=None, name='', identifiers=None, customProperties={}, customTags={}, metadata=ArchitectureCapacityMetadata(model=None, name=LastUpdateTime(lastUpdateTime=datetime.datetime(2025, 1, 23, 5, 39, 31, 710458, tzinfo=TzInfo(UTC))), identifiers=None, customProperties=LastUpdateTime(lastUpdateTime=datetime.datetime(2025, 1, 23, 5, 39, 31, 710458, tzinfo=TzInfo(UTC))), lastUpdateTime=datetime.datetime(2025, 1, 23, 5, 39, 31, 710458, tzinfo=TzInfo(UTC)), maxOccupancy=None, seatingCapacity=None), maxOccupancy=None, seatingCapacity=None)\n",
      "Relating: \n",
      "\t dtid='Room-49a8b660-d0e4-4a27-8baf-fc86c23cc148' name='08' identifiers={'IfcGuid': '0W642ncFL3s8xBT66z3bZx'} customProperties={} metadata=RoomMetadata(model='dtmi:org:w3id:rec:Room;1', name=LastUpdateTime(lastUpdateTime=datetime.datetime(2025, 1, 23, 5, 39, 31, 846209, tzinfo=TzInfo(UTC))), identifiers=LastUpdateTime(lastUpdateTime=datetime.datetime(2025, 1, 23, 5, 39, 31, 846209, tzinfo=TzInfo(UTC))), customProperties=LastUpdateTime(lastUpdateTime=datetime.datetime(2025, 1, 23, 5, 39, 31, 846209, tzinfo=TzInfo(UTC))), lastUpdateTime=datetime.datetime(2025, 1, 23, 5, 39, 31, 846209, tzinfo=TzInfo(UTC))) area=ArchitectureArea(dtid=None, name='', identifiers=None, customProperties={}, customTags={}, metadata=ArchitectureAreaMetadata(model=None, name=LastUpdateTime(lastUpdateTime=datetime.datetime(2025, 1, 23, 5, 39, 31, 846209, tzinfo=TzInfo(UTC))), identifiers=None, customProperties=LastUpdateTime(lastUpdateTime=datetime.datetime(2025, 1, 23, 5, 39, 31, 846209, tzinfo=TzInfo(UTC))), lastUpdateTime=datetime.datetime(2025, 1, 23, 5, 39, 31, 846209, tzinfo=TzInfo(UTC)), area=None, grossArea=LastUpdateTime(lastUpdateTime=datetime.datetime(2025, 1, 23, 5, 39, 31, 846209, tzinfo=TzInfo(UTC))), rentableArea=None), grossArea=14.666896, netArea=14.666896, rentableArea=None) capacity=ArchitectureCapacity(dtid=None, name='', identifiers=None, customProperties={}, customTags={}, metadata=ArchitectureCapacityMetadata(model=None, name=LastUpdateTime(lastUpdateTime=datetime.datetime(2025, 1, 23, 5, 39, 31, 846209, tzinfo=TzInfo(UTC))), identifiers=None, customProperties=LastUpdateTime(lastUpdateTime=datetime.datetime(2025, 1, 23, 5, 39, 31, 846209, tzinfo=TzInfo(UTC))), lastUpdateTime=datetime.datetime(2025, 1, 23, 5, 39, 31, 846209, tzinfo=TzInfo(UTC)), maxOccupancy=None, seatingCapacity=None), maxOccupancy=None, seatingCapacity=None)\n",
      "Relating: \n",
      "\t dtid='Room-9b658baf-1b6d-4efa-9098-7fbc9458be83' name='07' identifiers={'IfcGuid': '0WB6pM8aD5rgHSHQ06kJVi'} customProperties={} metadata=RoomMetadata(model='dtmi:org:w3id:rec:Room;1', name=LastUpdateTime(lastUpdateTime=datetime.datetime(2025, 1, 23, 5, 39, 31, 986719, tzinfo=TzInfo(UTC))), identifiers=LastUpdateTime(lastUpdateTime=datetime.datetime(2025, 1, 23, 5, 39, 31, 986719, tzinfo=TzInfo(UTC))), customProperties=LastUpdateTime(lastUpdateTime=datetime.datetime(2025, 1, 23, 5, 39, 31, 986719, tzinfo=TzInfo(UTC))), lastUpdateTime=datetime.datetime(2025, 1, 23, 5, 39, 31, 986719, tzinfo=TzInfo(UTC))) area=ArchitectureArea(dtid=None, name='', identifiers=None, customProperties={}, customTags={}, metadata=ArchitectureAreaMetadata(model=None, name=LastUpdateTime(lastUpdateTime=datetime.datetime(2025, 1, 23, 5, 39, 31, 986719, tzinfo=TzInfo(UTC))), identifiers=None, customProperties=LastUpdateTime(lastUpdateTime=datetime.datetime(2025, 1, 23, 5, 39, 31, 986719, tzinfo=TzInfo(UTC))), lastUpdateTime=datetime.datetime(2025, 1, 23, 5, 39, 31, 986719, tzinfo=TzInfo(UTC)), area=None, grossArea=LastUpdateTime(lastUpdateTime=datetime.datetime(2025, 1, 23, 5, 39, 31, 986719, tzinfo=TzInfo(UTC))), rentableArea=None), grossArea=21.61639, netArea=21.61639, rentableArea=None) capacity=ArchitectureCapacity(dtid=None, name='', identifiers=None, customProperties={}, customTags={}, metadata=ArchitectureCapacityMetadata(model=None, name=LastUpdateTime(lastUpdateTime=datetime.datetime(2025, 1, 23, 5, 39, 31, 986719, tzinfo=TzInfo(UTC))), identifiers=None, customProperties=LastUpdateTime(lastUpdateTime=datetime.datetime(2025, 1, 23, 5, 39, 31, 986719, tzinfo=TzInfo(UTC))), lastUpdateTime=datetime.datetime(2025, 1, 23, 5, 39, 31, 986719, tzinfo=TzInfo(UTC)), maxOccupancy=None, seatingCapacity=None), maxOccupancy=None, seatingCapacity=None)\n",
      "Relating: \n",
      "\t dtid='Room-f6d5f2db-5f10-4a3e-b835-387958de55ef' name='05' identifiers={'IfcGuid': '1afOYAVcX4lPulTZxWOhmF'} customProperties={} metadata=RoomMetadata(model='dtmi:org:w3id:rec:Room;1', name=LastUpdateTime(lastUpdateTime=datetime.datetime(2025, 1, 23, 5, 39, 32, 252012, tzinfo=TzInfo(UTC))), identifiers=LastUpdateTime(lastUpdateTime=datetime.datetime(2025, 1, 23, 5, 39, 32, 252012, tzinfo=TzInfo(UTC))), customProperties=LastUpdateTime(lastUpdateTime=datetime.datetime(2025, 1, 23, 5, 39, 32, 252012, tzinfo=TzInfo(UTC))), lastUpdateTime=datetime.datetime(2025, 1, 23, 5, 39, 32, 252012, tzinfo=TzInfo(UTC))) area=ArchitectureArea(dtid=None, name='', identifiers=None, customProperties={}, customTags={}, metadata=ArchitectureAreaMetadata(model=None, name=LastUpdateTime(lastUpdateTime=datetime.datetime(2025, 1, 23, 5, 39, 32, 252012, tzinfo=TzInfo(UTC))), identifiers=None, customProperties=LastUpdateTime(lastUpdateTime=datetime.datetime(2025, 1, 23, 5, 39, 32, 252012, tzinfo=TzInfo(UTC))), lastUpdateTime=datetime.datetime(2025, 1, 23, 5, 39, 32, 252012, tzinfo=TzInfo(UTC)), area=None, grossArea=LastUpdateTime(lastUpdateTime=datetime.datetime(2025, 1, 23, 5, 39, 32, 252012, tzinfo=TzInfo(UTC))), rentableArea=None), grossArea=3.7090442, netArea=3.7090442, rentableArea=None) capacity=ArchitectureCapacity(dtid=None, name='', identifiers=None, customProperties={}, customTags={}, metadata=ArchitectureCapacityMetadata(model=None, name=LastUpdateTime(lastUpdateTime=datetime.datetime(2025, 1, 23, 5, 39, 32, 252012, tzinfo=TzInfo(UTC))), identifiers=None, customProperties=LastUpdateTime(lastUpdateTime=datetime.datetime(2025, 1, 23, 5, 39, 32, 252012, tzinfo=TzInfo(UTC))), lastUpdateTime=datetime.datetime(2025, 1, 23, 5, 39, 32, 252012, tzinfo=TzInfo(UTC)), maxOccupancy=None, seatingCapacity=None), maxOccupancy=None, seatingCapacity=None)\n",
      "Relating: \n",
      "\t dtid='Room-40837a25-beb3-4a91-bf8e-369685c77c45' name='06' identifiers={'IfcGuid': '1fgHxkseb6V9GlURfHgOlT'} customProperties={} metadata=RoomMetadata(model='dtmi:org:w3id:rec:Room;1', name=LastUpdateTime(lastUpdateTime=datetime.datetime(2025, 1, 23, 5, 39, 32, 390927, tzinfo=TzInfo(UTC))), identifiers=LastUpdateTime(lastUpdateTime=datetime.datetime(2025, 1, 23, 5, 39, 32, 390927, tzinfo=TzInfo(UTC))), customProperties=LastUpdateTime(lastUpdateTime=datetime.datetime(2025, 1, 23, 5, 39, 32, 390927, tzinfo=TzInfo(UTC))), lastUpdateTime=datetime.datetime(2025, 1, 23, 5, 39, 32, 390927, tzinfo=TzInfo(UTC))) area=ArchitectureArea(dtid=None, name='', identifiers=None, customProperties={}, customTags={}, metadata=ArchitectureAreaMetadata(model=None, name=LastUpdateTime(lastUpdateTime=datetime.datetime(2025, 1, 23, 5, 39, 32, 390927, tzinfo=TzInfo(UTC))), identifiers=None, customProperties=LastUpdateTime(lastUpdateTime=datetime.datetime(2025, 1, 23, 5, 39, 32, 390927, tzinfo=TzInfo(UTC))), lastUpdateTime=datetime.datetime(2025, 1, 23, 5, 39, 32, 390927, tzinfo=TzInfo(UTC)), area=None, grossArea=LastUpdateTime(lastUpdateTime=datetime.datetime(2025, 1, 23, 5, 39, 32, 390927, tzinfo=TzInfo(UTC))), rentableArea=None), grossArea=5.5479431, netArea=5.5479431, rentableArea=None) capacity=ArchitectureCapacity(dtid=None, name='', identifiers=None, customProperties={}, customTags={}, metadata=ArchitectureCapacityMetadata(model=None, name=LastUpdateTime(lastUpdateTime=datetime.datetime(2025, 1, 23, 5, 39, 32, 390927, tzinfo=TzInfo(UTC))), identifiers=None, customProperties=LastUpdateTime(lastUpdateTime=datetime.datetime(2025, 1, 23, 5, 39, 32, 390927, tzinfo=TzInfo(UTC))), lastUpdateTime=datetime.datetime(2025, 1, 23, 5, 39, 32, 390927, tzinfo=TzInfo(UTC)), maxOccupancy=None, seatingCapacity=None), maxOccupancy=None, seatingCapacity=None)\n",
      "Relating: \n",
      "\t dtid='Room-daa22b72-1ef8-4f05-ad79-f00583b2a535' name='05' identifiers={'IfcGuid': '3BXD1tzWz6URSfMlZIKG5g'} customProperties={} metadata=RoomMetadata(model='dtmi:org:w3id:rec:Room;1', name=LastUpdateTime(lastUpdateTime=datetime.datetime(2025, 1, 23, 5, 39, 32, 512156, tzinfo=TzInfo(UTC))), identifiers=LastUpdateTime(lastUpdateTime=datetime.datetime(2025, 1, 23, 5, 39, 32, 512156, tzinfo=TzInfo(UTC))), customProperties=LastUpdateTime(lastUpdateTime=datetime.datetime(2025, 1, 23, 5, 39, 32, 512156, tzinfo=TzInfo(UTC))), lastUpdateTime=datetime.datetime(2025, 1, 23, 5, 39, 32, 512156, tzinfo=TzInfo(UTC))) area=ArchitectureArea(dtid=None, name='', identifiers=None, customProperties={}, customTags={}, metadata=ArchitectureAreaMetadata(model=None, name=LastUpdateTime(lastUpdateTime=datetime.datetime(2025, 1, 23, 5, 39, 32, 512156, tzinfo=TzInfo(UTC))), identifiers=None, customProperties=LastUpdateTime(lastUpdateTime=datetime.datetime(2025, 1, 23, 5, 39, 32, 512156, tzinfo=TzInfo(UTC))), lastUpdateTime=datetime.datetime(2025, 1, 23, 5, 39, 32, 512156, tzinfo=TzInfo(UTC)), area=None, grossArea=LastUpdateTime(lastUpdateTime=datetime.datetime(2025, 1, 23, 5, 39, 32, 512156, tzinfo=TzInfo(UTC))), rentableArea=None), grossArea=5.7922526, netArea=5.7922526, rentableArea=None) capacity=ArchitectureCapacity(dtid=None, name='', identifiers=None, customProperties={}, customTags={}, metadata=ArchitectureCapacityMetadata(model=None, name=LastUpdateTime(lastUpdateTime=datetime.datetime(2025, 1, 23, 5, 39, 32, 512156, tzinfo=TzInfo(UTC))), identifiers=None, customProperties=LastUpdateTime(lastUpdateTime=datetime.datetime(2025, 1, 23, 5, 39, 32, 512156, tzinfo=TzInfo(UTC))), lastUpdateTime=datetime.datetime(2025, 1, 23, 5, 39, 32, 512156, tzinfo=TzInfo(UTC)), maxOccupancy=None, seatingCapacity=None), maxOccupancy=None, seatingCapacity=None)\n",
      "Relating: \n",
      "\t dtid='Room-e270cb43-e8fb-413d-8aae-c801976402a1' name='06' identifiers={'IfcGuid': '12nA1uyx9CTATpMbD2PjwY'} customProperties={} metadata=RoomMetadata(model='dtmi:org:w3id:rec:Room;1', name=LastUpdateTime(lastUpdateTime=datetime.datetime(2025, 1, 23, 5, 39, 32, 668963, tzinfo=TzInfo(UTC))), identifiers=LastUpdateTime(lastUpdateTime=datetime.datetime(2025, 1, 23, 5, 39, 32, 668963, tzinfo=TzInfo(UTC))), customProperties=LastUpdateTime(lastUpdateTime=datetime.datetime(2025, 1, 23, 5, 39, 32, 668963, tzinfo=TzInfo(UTC))), lastUpdateTime=datetime.datetime(2025, 1, 23, 5, 39, 32, 668963, tzinfo=TzInfo(UTC))) area=ArchitectureArea(dtid=None, name='', identifiers=None, customProperties={}, customTags={}, metadata=ArchitectureAreaMetadata(model=None, name=LastUpdateTime(lastUpdateTime=datetime.datetime(2025, 1, 23, 5, 39, 32, 668963, tzinfo=TzInfo(UTC))), identifiers=None, customProperties=LastUpdateTime(lastUpdateTime=datetime.datetime(2025, 1, 23, 5, 39, 32, 668963, tzinfo=TzInfo(UTC))), lastUpdateTime=datetime.datetime(2025, 1, 23, 5, 39, 32, 668963, tzinfo=TzInfo(UTC)), area=None, grossArea=LastUpdateTime(lastUpdateTime=datetime.datetime(2025, 1, 23, 5, 39, 32, 668963, tzinfo=TzInfo(UTC))), rentableArea=None), grossArea=7.264023, netArea=7.264023, rentableArea=None) capacity=ArchitectureCapacity(dtid=None, name='', identifiers=None, customProperties={}, customTags={}, metadata=ArchitectureCapacityMetadata(model=None, name=LastUpdateTime(lastUpdateTime=datetime.datetime(2025, 1, 23, 5, 39, 32, 668963, tzinfo=TzInfo(UTC))), identifiers=None, customProperties=LastUpdateTime(lastUpdateTime=datetime.datetime(2025, 1, 23, 5, 39, 32, 668963, tzinfo=TzInfo(UTC))), lastUpdateTime=datetime.datetime(2025, 1, 23, 5, 39, 32, 668963, tzinfo=TzInfo(UTC)), maxOccupancy=None, seatingCapacity=None), maxOccupancy=None, seatingCapacity=None)\n",
      "Relating: \n",
      "\t dtid='Room-9a7659b5-17b9-46ae-8606-1a9fed5e01c5' name='05' identifiers={'IfcGuid': '2sjVG8PobFWOHTY2ez4ZLw'} customProperties={} metadata=RoomMetadata(model='dtmi:org:w3id:rec:Room;1', name=LastUpdateTime(lastUpdateTime=datetime.datetime(2025, 1, 23, 5, 39, 32, 792976, tzinfo=TzInfo(UTC))), identifiers=LastUpdateTime(lastUpdateTime=datetime.datetime(2025, 1, 23, 5, 39, 32, 792976, tzinfo=TzInfo(UTC))), customProperties=LastUpdateTime(lastUpdateTime=datetime.datetime(2025, 1, 23, 5, 39, 32, 792976, tzinfo=TzInfo(UTC))), lastUpdateTime=datetime.datetime(2025, 1, 23, 5, 39, 32, 792976, tzinfo=TzInfo(UTC))) area=ArchitectureArea(dtid=None, name='', identifiers=None, customProperties={}, customTags={}, metadata=ArchitectureAreaMetadata(model=None, name=LastUpdateTime(lastUpdateTime=datetime.datetime(2025, 1, 23, 5, 39, 32, 792976, tzinfo=TzInfo(UTC))), identifiers=None, customProperties=LastUpdateTime(lastUpdateTime=datetime.datetime(2025, 1, 23, 5, 39, 32, 792976, tzinfo=TzInfo(UTC))), lastUpdateTime=datetime.datetime(2025, 1, 23, 5, 39, 32, 792976, tzinfo=TzInfo(UTC)), area=None, grossArea=LastUpdateTime(lastUpdateTime=datetime.datetime(2025, 1, 23, 5, 39, 32, 792976, tzinfo=TzInfo(UTC))), rentableArea=None), grossArea=7.4628987, netArea=7.4628987, rentableArea=None) capacity=ArchitectureCapacity(dtid=None, name='', identifiers=None, customProperties={}, customTags={}, metadata=ArchitectureCapacityMetadata(model=None, name=LastUpdateTime(lastUpdateTime=datetime.datetime(2025, 1, 23, 5, 39, 32, 792976, tzinfo=TzInfo(UTC))), identifiers=None, customProperties=LastUpdateTime(lastUpdateTime=datetime.datetime(2025, 1, 23, 5, 39, 32, 792976, tzinfo=TzInfo(UTC))), lastUpdateTime=datetime.datetime(2025, 1, 23, 5, 39, 32, 792976, tzinfo=TzInfo(UTC)), maxOccupancy=None, seatingCapacity=None), maxOccupancy=None, seatingCapacity=None)\n",
      "dtid='Level-8ae168e0-b75b-410c-8458-70e37c07fff7' name='2. Story' identifiers={'IfcGuid': '1w$bRVeDv68vuEsFJ0ich4'} customProperties={} metadata=LevelMetadata(model='dtmi:org:w3id:rec:Level;1', name=LastUpdateTime(lastUpdateTime=datetime.datetime(2025, 1, 23, 5, 39, 25, 972588, tzinfo=TzInfo(UTC))), identifiers=LastUpdateTime(lastUpdateTime=datetime.datetime(2025, 1, 23, 5, 39, 25, 972588, tzinfo=TzInfo(UTC))), customProperties=LastUpdateTime(lastUpdateTime=datetime.datetime(2025, 1, 23, 5, 39, 25, 972588, tzinfo=TzInfo(UTC))), lastUpdateTime=datetime.datetime(2025, 1, 23, 5, 39, 25, 972588, tzinfo=TzInfo(UTC))) area=ArchitectureArea(dtid=None, name='', identifiers=None, customProperties={}, customTags={}, metadata=ArchitectureAreaMetadata(model=None, name=LastUpdateTime(lastUpdateTime=datetime.datetime(2025, 1, 23, 5, 39, 25, 972588, tzinfo=TzInfo(UTC))), identifiers=None, customProperties=LastUpdateTime(lastUpdateTime=datetime.datetime(2025, 1, 23, 5, 39, 25, 972588, tzinfo=TzInfo(UTC))), lastUpdateTime=datetime.datetime(2025, 1, 23, 5, 39, 25, 972588, tzinfo=TzInfo(UTC)), area=None, grossArea=None, rentableArea=None), grossArea=None, netArea=None, rentableArea=None) capacity=ArchitectureCapacity(dtid=None, name='', identifiers=None, customProperties={}, customTags={}, metadata=ArchitectureCapacityMetadata(model=None, name=LastUpdateTime(lastUpdateTime=datetime.datetime(2025, 1, 23, 5, 39, 25, 972588, tzinfo=TzInfo(UTC))), identifiers=None, customProperties=LastUpdateTime(lastUpdateTime=datetime.datetime(2025, 1, 23, 5, 39, 25, 972588, tzinfo=TzInfo(UTC))), lastUpdateTime=datetime.datetime(2025, 1, 23, 5, 39, 25, 972588, tzinfo=TzInfo(UTC)), maxOccupancy=None, seatingCapacity=None), maxOccupancy=None, seatingCapacity=None) levelNumber=None\n"
     ]
    }
   ],
   "source": [
    "# Relating the rooms to its levels \n",
    "for storey in ifc_storeys:\n",
    "    storey_twin = Level(**get_twin_by_ifc_guid(storey.GlobalId))\n",
    "    print(storey_twin)\n",
    "    for rel_aggregate in storey.IsDecomposedBy:\n",
    "        related_spaces = rel_aggregate.RelatedObjects \n",
    "        for space in related_spaces:\n",
    "            room_twin = Room(**get_twin_by_ifc_guid(space.GlobalId))\n",
    "            print(\"Relating: \\n\\t\", room_twin)\n",
    "            add_part_relationship(storey_twin,room_twin)\n",
    "            "
   ]
  },
  {
   "cell_type": "markdown",
   "metadata": {},
   "source": [
    "#### Now it looks like this after a bit rearranging after running \"SELECT * FROM digitaltwins\"\n",
    "\n",
    "![ADT Explorer Building related to Levels and its rooms](img/connected_graph.png \"ADT Explorer Building related to Levels and its rooms\")\n",
    "\n",
    "As the image shows, the rooms are only on two levels. \n",
    "\n",
    "Now, how about connecting the rest of the models to the same twin environment and maybe start connecting other data sources? "
   ]
  },
  {
   "cell_type": "code",
   "execution_count": null,
   "metadata": {},
   "outputs": [],
   "source": []
  }
 ],
 "metadata": {
  "kernelspec": {
   "display_name": "Python 3",
   "language": "python",
   "name": "python3"
  },
  "language_info": {
   "codemirror_mode": {
    "name": "ipython",
    "version": 3
   },
   "file_extension": ".py",
   "mimetype": "text/x-python",
   "name": "python",
   "nbconvert_exporter": "python",
   "pygments_lexer": "ipython3",
   "version": "3.11.9"
  }
 },
 "nbformat": 4,
 "nbformat_minor": 4
}
